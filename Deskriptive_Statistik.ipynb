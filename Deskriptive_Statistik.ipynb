{
  "nbformat": 4,
  "nbformat_minor": 0,
  "metadata": {
    "colab": {
      "provenance": [],
      "toc_visible": true,
      "authorship_tag": "ABX9TyPFFC3jHWlmkND0LEUYveWo",
      "include_colab_link": true
    },
    "kernelspec": {
      "name": "python3",
      "display_name": "Python 3"
    },
    "language_info": {
      "name": "python"
    }
  },
  "cells": [
    {
      "cell_type": "markdown",
      "metadata": {
        "id": "view-in-github",
        "colab_type": "text"
      },
      "source": [
        "<a href=\"https://colab.research.google.com/github/soeren2311/Youtube-Syntax/blob/main/Deskriptive_Statistik.ipynb\" target=\"_parent\"><img src=\"https://colab.research.google.com/assets/colab-badge.svg\" alt=\"Open In Colab\"/></a>"
      ]
    },
    {
      "cell_type": "markdown",
      "source": [
        "## Deskriptive Statistik in Python"
      ],
      "metadata": {
        "id": "qjaBX0_RvvsV"
      }
    },
    {
      "cell_type": "markdown",
      "source": [
        "## Import the dataset Inc_Exp_Data.csv"
      ],
      "metadata": {
        "id": "PUqaDaGxzO6f"
      }
    },
    {
      "cell_type": "code",
      "source": [
        "import pandas as pd\n",
        "import matplotlib.pyplot as plt"
      ],
      "metadata": {
        "id": "55pJrv_i5AQj"
      },
      "execution_count": 1,
      "outputs": []
    },
    {
      "cell_type": "code",
      "source": [
        "income = pd.read_csv(\"sample_data/Inc_Exp_Data.csv\")\n",
        "income.head()"
      ],
      "metadata": {
        "id": "BQhyk63v0s6u"
      },
      "execution_count": null,
      "outputs": []
    },
    {
      "cell_type": "markdown",
      "source": [
        "## Univariate Häufigkeitsverteilungen"
      ],
      "metadata": {
        "id": "0AZDchyvzenG"
      }
    },
    {
      "cell_type": "code",
      "source": [
        "income.mean() ## Get the mean of the columns  "
      ],
      "metadata": {
        "id": "l8Jb1531zNg_"
      },
      "execution_count": null,
      "outputs": []
    },
    {
      "cell_type": "code",
      "source": [
        "income.mean(axis=1) ## Get the man of the rows, default is axis=0 which give you the column"
      ],
      "metadata": {
        "id": "dgfdpNORzNj4"
      },
      "execution_count": null,
      "outputs": []
    },
    {
      "cell_type": "code",
      "source": [
        "income.median() ## It is the point above and below which half (50%) the observed data falls, \n",
        "                 ## and so represents the midpoint of the data."
      ],
      "metadata": {
        "id": "UpT13hL61BuV"
      },
      "execution_count": null,
      "outputs": []
    },
    {
      "cell_type": "code",
      "source": [
        "income.median(axis=1)"
      ],
      "metadata": {
        "id": "H8aa_qAZ2d-L"
      },
      "execution_count": null,
      "outputs": []
    },
    {
      "cell_type": "code",
      "source": [
        "income.mode()   ## Which value occurs most frequently"
      ],
      "metadata": {
        "id": "4dKkDyId1d9k"
      },
      "execution_count": null,
      "outputs": []
    },
    {
      "cell_type": "code",
      "source": [
        "income.max()   ## highest value"
      ],
      "metadata": {
        "id": "MvGspUrD1Bw8"
      },
      "execution_count": null,
      "outputs": []
    },
    {
      "cell_type": "code",
      "source": [
        "income.min()   ## lowest value"
      ],
      "metadata": {
        "id": "ryJasDkr5dAl"
      },
      "execution_count": null,
      "outputs": []
    },
    {
      "cell_type": "code",
      "source": [
        "max(income[\"Mthly_HH_Expense\"])   ## highest value"
      ],
      "metadata": {
        "id": "wVQID_Bx2jxr"
      },
      "execution_count": null,
      "outputs": []
    },
    {
      "cell_type": "code",
      "source": [
        "min(income[\"Mthly_HH_Income\"])   ## lowest value"
      ],
      "metadata": {
        "id": "wpi3TOSZ5-jQ"
      },
      "execution_count": null,
      "outputs": []
    },
    {
      "cell_type": "code",
      "source": [
        "income[\"Mthly_HH_Income\"].mean()"
      ],
      "metadata": {
        "id": "BoSLuFlJAQrs"
      },
      "execution_count": null,
      "outputs": []
    },
    {
      "cell_type": "code",
      "source": [
        "max(income[\"Mthly_HH_Income\"]) - min(income[\"Mthly_HH_Income\"])   ## Range between highest and lowest value"
      ],
      "metadata": {
        "id": "gA8f9Gtb1B2F"
      },
      "execution_count": null,
      "outputs": []
    },
    {
      "cell_type": "code",
      "source": [
        "high = max(income[\"Mthly_HH_Income\"]) \n",
        "low = min(income[\"Mthly_HH_Income\"]) \n",
        "diff = high - low\n",
        "diff"
      ],
      "metadata": {
        "id": "g7u_uDoK2a8s"
      },
      "execution_count": null,
      "outputs": []
    },
    {
      "cell_type": "code",
      "source": [
        "percentiles = [income[\"Mthly_HH_Income\"].quantile(0),   ## 0%-Perzentil\n",
        "               income[\"Mthly_HH_Income\"].quantile(0.25),  ## 25%-Perzentil\n",
        "               income[\"Mthly_HH_Income\"].quantile(0.50),  ## 50%-Perzentil\n",
        "               income[\"Mthly_HH_Income\"].quantile(0.75),  ## 75%-Perzentil\n",
        "               income[\"Mthly_HH_Income\"].quantile(1)]   ## 100%-Perzentil\n",
        "percentiles"
      ],
      "metadata": {
        "id": "GEWPX3JL241M"
      },
      "execution_count": null,
      "outputs": []
    },
    {
      "cell_type": "code",
      "source": [
        "income[\"Mthly_HH_Income\"].describe()  ## describe"
      ],
      "metadata": {
        "id": "_kAmvbEw3wqH"
      },
      "execution_count": null,
      "outputs": []
    },
    {
      "cell_type": "code",
      "source": [
        "income[\"Mthly_HH_Income\"].quantile(0.75) - income[\"Mthly_HH_Income\"].quantile(0.25) ## IQR"
      ],
      "metadata": {
        "id": "e3N8cU_34BkI"
      },
      "execution_count": null,
      "outputs": []
    },
    {
      "cell_type": "code",
      "source": [
        "income[\"Mthly_HH_Income\"].var()   ## Variance"
      ],
      "metadata": {
        "id": "JV1qb-LS4Yc7"
      },
      "execution_count": null,
      "outputs": []
    },
    {
      "cell_type": "code",
      "source": [
        "income[\"Mthly_HH_Income\"].std()   ## Standarddeviation (Square root of the variance)"
      ],
      "metadata": {
        "id": "GY7rTKag4Yhq"
      },
      "execution_count": null,
      "outputs": []
    },
    {
      "cell_type": "markdown",
      "source": [
        "## Schiefe und Kurtosis\n",
        "\n",
        "### Ein Merkmal X ist linkssteil oder rechtsschief, \n",
        "### falls Schiefe von (X) > 0 und rechtssteil oder\n",
        "### linksschief, falls Schiefe von (x) < 0 "
      ],
      "metadata": {
        "id": "a5zr8xUL7Rny"
      }
    },
    {
      "cell_type": "code",
      "source": [
        "income[\"Mthly_HH_Income\"].skew()  ## Skewness"
      ],
      "metadata": {
        "id": "UoL6IoUr61-B"
      },
      "execution_count": null,
      "outputs": []
    },
    {
      "cell_type": "markdown",
      "source": [
        "### Ein Merkmal  X heißt flachgipflig, falls  \n",
        "### 1 ≤ kurtosis (X) < 3 und steilgipflig, falls  \n",
        "### kurtosis (X) > 3"
      ],
      "metadata": {
        "id": "xum7AlFb7x0t"
      }
    },
    {
      "cell_type": "code",
      "source": [
        "income[\"Mthly_HH_Income\"].kurt()  ## Kurtosis"
      ],
      "metadata": {
        "id": "mXUHbmzO661I"
      },
      "execution_count": null,
      "outputs": []
    },
    {
      "cell_type": "code",
      "source": [
        "monthinc = income[\"Mthly_HH_Income\"]\n",
        "\n",
        "plt.hist(monthinc, bins=20, edgecolor = \"black\")"
      ],
      "metadata": {
        "id": "85wyM4S_7AXo"
      },
      "execution_count": null,
      "outputs": []
    }
  ]
}