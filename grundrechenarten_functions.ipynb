{
  "nbformat": 4,
  "nbformat_minor": 0,
  "metadata": {
    "colab": {
      "provenance": [],
      "authorship_tag": "ABX9TyPvvabnqcC0frSOwphGvAVO",
      "include_colab_link": true
    },
    "kernelspec": {
      "name": "python3",
      "display_name": "Python 3"
    },
    "language_info": {
      "name": "python"
    }
  },
  "cells": [
    {
      "cell_type": "markdown",
      "metadata": {
        "id": "view-in-github",
        "colab_type": "text"
      },
      "source": [
        "<a href=\"https://colab.research.google.com/github/soeren2311/Youtube-Syntax/blob/main/grundrechenarten_functions.ipynb\" target=\"_parent\"><img src=\"https://colab.research.google.com/assets/colab-badge.svg\" alt=\"Open In Colab\"/></a>"
      ]
    },
    {
      "cell_type": "markdown",
      "source": [
        "# **Funktionen in Python - Grundrechenarten (Addition und Subtratkion)**\n"
      ],
      "metadata": {
        "id": "PCbDumR4qph0"
      }
    },
    {
      "cell_type": "markdown",
      "source": [
        "## Addition"
      ],
      "metadata": {
        "id": "-OqcyFEwrJOo"
      }
    },
    {
      "cell_type": "markdown",
      "source": [
        "### Funktionen in Python mit Parametern"
      ],
      "metadata": {
        "id": "h09ydiQvwHci"
      }
    },
    {
      "cell_type": "code",
      "source": [
        "def addition(val1, val2):\n",
        "  print(val1 + val2)\n",
        "\n",
        "addition(5, 8)"
      ],
      "metadata": {
        "colab": {
          "base_uri": "https://localhost:8080/"
        },
        "id": "R_qhktJl06P8",
        "outputId": "2e72593d-9a4f-434f-ab04-ed20983f3ddd"
      },
      "execution_count": 21,
      "outputs": [
        {
          "output_type": "stream",
          "name": "stdout",
          "text": [
            "13\n"
          ]
        }
      ]
    },
    {
      "cell_type": "markdown",
      "source": [
        "# Subtraktion"
      ],
      "metadata": {
        "id": "LBy3Xs2Nreog"
      }
    },
    {
      "cell_type": "markdown",
      "source": [
        "### Funktionen in Python mit Rückgabewert"
      ],
      "metadata": {
        "id": "Ui5OpMxTwStR"
      }
    },
    {
      "cell_type": "code",
      "source": [
        "def subtraktion(val1, val2):\n",
        "  differenz = val1 - val2\n",
        "  return differenz\n",
        "\n",
        "print(subtraktion(18, 5))"
      ],
      "metadata": {
        "colab": {
          "base_uri": "https://localhost:8080/"
        },
        "id": "LG7CQEEC1Ocz",
        "outputId": "fcaea52c-a93f-4156-8a5d-bf416e4740c2"
      },
      "execution_count": 23,
      "outputs": [
        {
          "output_type": "stream",
          "name": "stdout",
          "text": [
            "13\n"
          ]
        }
      ]
    }
  ]
}