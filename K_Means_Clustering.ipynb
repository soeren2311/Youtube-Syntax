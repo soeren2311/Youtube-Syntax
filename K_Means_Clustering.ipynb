{
  "nbformat": 4,
  "nbformat_minor": 0,
  "metadata": {
    "colab": {
      "provenance": [],
      "authorship_tag": "ABX9TyOQ7yR+9UMHVKd6nJA/wbLU",
      "include_colab_link": true
    },
    "kernelspec": {
      "name": "python3",
      "display_name": "Python 3"
    },
    "language_info": {
      "name": "python"
    }
  },
  "cells": [
    {
      "cell_type": "markdown",
      "metadata": {
        "id": "view-in-github",
        "colab_type": "text"
      },
      "source": [
        "<a href=\"https://colab.research.google.com/github/soeren2311/Youtube-Syntax/blob/main/K_Means_Clustering.ipynb\" target=\"_parent\"><img src=\"https://colab.research.google.com/assets/colab-badge.svg\" alt=\"Open In Colab\"/></a>"
      ]
    },
    {
      "cell_type": "markdown",
      "source": [
        "### **Libraries importieren**"
      ],
      "metadata": {
        "id": "z2dAty0oIEZp"
      }
    },
    {
      "cell_type": "code",
      "source": [
        "import pandas as pd\n",
        "import numpy as np\n",
        "import matplotlib.pyplot as plt\n",
        "from sklearn.cluster import KMeans\n",
        "from sklearn.datasets import make_blobs"
      ],
      "metadata": {
        "id": "2lKstNI5ID86"
      },
      "execution_count": 1,
      "outputs": []
    },
    {
      "cell_type": "markdown",
      "source": [
        "### **Erstelle einen zufälligen Datensatz**\n",
        "\n",
        "- Hundert Datenpunkte\n",
        "- 3 Clusterzentren\n",
        "\n",
        "- **X** ist eine Matrix mit der Form (n_samples, n_features), die die Merkmale der generierten Datenpunkte enthält....\n",
        "**n_samples** = Anzahl der generierten Datenpunkte \n",
        "**n_features** = der Merkmale pro Datenpunkt \n",
        "\n",
        "In diesem Fall enthält jeder Datenpunkt 2 Merkmale, \n",
        "sodass X eine Matrix mit der Form (100, 2) ist.\n",
        "\n",
        "- **y** ist ein Vektor der Länge n_samples, der die Clusterkategorie jedes Datenpunkts angibt. Jeder Eintrag in y gibt die Clusterkategorie für den entsprechenden Datenpunkt in der entsprechenden Zeile von X an. In diesem Beispiel gibt es 3 Cluster, so dass y eine Matrix der Form (100,) ist und jedes Element in y eine Zahl von 0 bis 2 ist, die angibt, welchem Cluster der entsprechende Datenpunkt angehört."
      ],
      "metadata": {
        "id": "H6ebDER2aLT0"
      }
    },
    {
      "cell_type": "code",
      "source": [
        "X, y = make_blobs(n_samples=100, centers=3, random_state=42). ## Erzeuge Datensatz mit make_blobs"
      ],
      "metadata": {
        "id": "3QMGkpqrKip5"
      },
      "execution_count": 2,
      "outputs": []
    },
    {
      "cell_type": "markdown",
      "source": [
        "*   Die **KMeans-Instanz** wird mit der Anzahl der zu identifizierenden Cluster *n_clusters* und einem zufälligen Seed-Wert *random_state* initialisiert. 3 Cluster werden identifiziert und Seed-Wert auf 42 festgelegt.\n",
        "*   Mit **kmeans.fit(X)** wird der Clustering-Algorithmus mit dem Datensatz X trainiert. **fit()** ist eine Methode der KMeans-Klasse, die den Algorithmus auf die Daten anwendet und die Clusterzentren berechnet. \n",
        "\n"
      ],
      "metadata": {
        "id": "SNyj0rDCd0wq"
      }
    },
    {
      "cell_type": "code",
      "source": [
        "kmeans = KMeans(n_clusters=3, random_state=42)\n",
        "kmeans.fit(X)"
      ],
      "metadata": {
        "id": "8pJXdVpZKixG"
      },
      "execution_count": null,
      "outputs": []
    },
    {
      "cell_type": "markdown",
      "source": [
        "*  **X[:, 0] und X[:, 1]** sind die ersten und zweiten  Spalten von X, die die x- und y-Koordinaten jedes Datenpunkts enthalten. \n",
        "*   **X[:, 0]** gibt die erste Spalte von X zurück, die alle x-Koordinaten enthält, während **X[:, 1]** die zweite Spalte von X zurückgibt, die alle y-Koordinaten enthält.\n",
        "\n",
        "\n",
        "*   Der Parameter **c=kmeans.labels_** ordnet jeder Farbe in der Farbskala eine eindeutige Clusterkategorie zu, so dass jeder Cluster in einer anderen Farbe dargestellt wird.\n",
        "\n",
        "\n",
        "\n",
        "*   kmeans.cluster_centers_[:, 0] = x-Koordinate der Clusterzentren  \n",
        "*   kmeans.cluster_centers_[:, 1]: = y-Koordinate der Clusterzentren\n",
        "\n"
      ],
      "metadata": {
        "id": "TpVMh7yqfhpB"
      }
    },
    {
      "cell_type": "code",
      "source": [
        "plt.scatter(X[:, 0], X[:, 1], c=kmeans.labels_)\n",
        "plt.scatter(kmeans.cluster_centers_[:, 0], kmeans.cluster_centers_[:, 1], marker='x', s=200, linewidths=3, color='r')\n",
        "plt.show()"
      ],
      "metadata": {
        "colab": {
          "base_uri": "https://localhost:8080/",
          "height": 265
        },
        "id": "O6LehD-sKiz2",
        "outputId": "f51a787d-bead-4ca5-a979-c7bff14083bd"
      },
      "execution_count": 5,
      "outputs": [
        {
          "output_type": "display_data",
          "data": {
            "text/plain": [
              "<Figure size 432x288 with 1 Axes>"
            ],
            "image/png": "[encoded data removed]"
          },
          "metadata": {
            "needs_background": "light"
          }
        }
      ]
    },
    {
      "cell_type": "code",
      "source": [],
      "metadata": {
        "id": "-2YtQ1NXKi4_"
      },
      "execution_count": null,
      "outputs": []
    },
    {
      "cell_type": "code",
      "source": [],
      "metadata": {
        "id": "o9mU-97lKi9I"
      },
      "execution_count": null,
      "outputs": []
    },
    {
      "cell_type": "code",
      "source": [],
      "metadata": {
        "id": "PbnDyKlqKi_x"
      },
      "execution_count": null,
      "outputs": []
    }
  ]
}